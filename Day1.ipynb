{
 "cells": [
  {
   "cell_type": "code",
   "execution_count": 1,
   "id": "8a7bfc47-a23a-4564-968b-2a503226c2dc",
   "metadata": {},
   "outputs": [],
   "source": [
    "d={\"key1\":\"value\",\"key2\":\"786\"}"
   ]
  },
  {
   "cell_type": "code",
   "execution_count": 4,
   "id": "74d18224-00d0-443c-bef6-8926800f5341",
   "metadata": {},
   "outputs": [
    {
     "data": {
      "text/plain": [
       "'value'"
      ]
     },
     "execution_count": 4,
     "metadata": {},
     "output_type": "execute_result"
    }
   ],
   "source": [
    "d[\"key1\"]"
   ]
  },
  {
   "cell_type": "code",
   "execution_count": 7,
   "id": "6f9d877f-bb5b-4c85-88d3-4c98d02fd847",
   "metadata": {},
   "outputs": [
    {
     "data": {
      "text/plain": [
       "'786'"
      ]
     },
     "execution_count": 7,
     "metadata": {},
     "output_type": "execute_result"
    }
   ],
   "source": [
    "d[\"key2\"]"
   ]
  },
  {
   "cell_type": "code",
   "execution_count": 8,
   "id": "972b1289-bc60-40db-91ac-26c3c0ea5ade",
   "metadata": {},
   "outputs": [],
   "source": [
    "d={'junaid':[1,2,3]}"
   ]
  },
  {
   "cell_type": "code",
   "execution_count": 9,
   "id": "3a20e0ec-ffe4-4017-86e6-7a4bb2272d9f",
   "metadata": {},
   "outputs": [
    {
     "data": {
      "text/plain": [
       "{'junaid': [1, 2, 3]}"
      ]
     },
     "execution_count": 9,
     "metadata": {},
     "output_type": "execute_result"
    }
   ],
   "source": [
    "d"
   ]
  },
  {
   "cell_type": "code",
   "execution_count": 10,
   "id": "8ad46893-fe47-4cf2-8488-2c1a0f2088c6",
   "metadata": {},
   "outputs": [
    {
     "data": {
      "text/plain": [
       "[1, 2, 3]"
      ]
     },
     "execution_count": 10,
     "metadata": {},
     "output_type": "execute_result"
    }
   ],
   "source": [
    "d['junaid']"
   ]
  },
  {
   "cell_type": "code",
   "execution_count": 12,
   "id": "c5952448-097f-4dd1-95f3-27497f201733",
   "metadata": {},
   "outputs": [],
   "source": [
    "nest=[1,2,[3,4]]"
   ]
  },
  {
   "cell_type": "code",
   "execution_count": 13,
   "id": "7ffb402a-a795-49d2-b5cc-63167b743be3",
   "metadata": {},
   "outputs": [
    {
     "data": {
      "text/plain": [
       "[3, 4]"
      ]
     },
     "execution_count": 13,
     "metadata": {},
     "output_type": "execute_result"
    }
   ],
   "source": [
    "nest[2]"
   ]
  },
  {
   "cell_type": "code",
   "execution_count": 14,
   "id": "4febd8d8-1e34-44c2-b2ab-3ffaeac358dc",
   "metadata": {},
   "outputs": [
    {
     "data": {
      "text/plain": [
       "2"
      ]
     },
     "execution_count": 14,
     "metadata": {},
     "output_type": "execute_result"
    }
   ],
   "source": [
    "nest[1]"
   ]
  },
  {
   "cell_type": "code",
   "execution_count": 15,
   "id": "940a9290-aaae-4a85-9f88-e8459489e705",
   "metadata": {},
   "outputs": [],
   "source": [
    "f={'junaid':{'ahamed':[1,2,3]}}"
   ]
  },
  {
   "cell_type": "code",
   "execution_count": 19,
   "id": "5777253b-328a-435e-ad59-01d59f91f91a",
   "metadata": {},
   "outputs": [
    {
     "data": {
      "text/plain": [
       "{'ahamed': [1, 2, 3]}"
      ]
     },
     "execution_count": 19,
     "metadata": {},
     "output_type": "execute_result"
    }
   ],
   "source": [
    "f['junaid']"
   ]
  },
  {
   "cell_type": "code",
   "execution_count": 25,
   "id": "d6812ed2-e18e-42bb-8e8d-ef781a789f45",
   "metadata": {},
   "outputs": [
    {
     "data": {
      "text/plain": [
       "3"
      ]
     },
     "execution_count": 25,
     "metadata": {},
     "output_type": "execute_result"
    }
   ],
   "source": [
    "f['junaid']['ahamed'][2]"
   ]
  },
  {
   "cell_type": "code",
   "execution_count": 26,
   "id": "af18235c-03bb-4eef-8ff1-c6712b2dbb09",
   "metadata": {},
   "outputs": [],
   "source": [
    "set={1,2,3,4,5,6}"
   ]
  },
  {
   "cell_type": "code",
   "execution_count": 28,
   "id": "9ee048a9-c9e9-4072-b70c-566b5defc27e",
   "metadata": {},
   "outputs": [],
   "source": [
    "set.add(7)"
   ]
  },
  {
   "cell_type": "code",
   "execution_count": 30,
   "id": "dc18122e-f559-4b03-afb7-2788d75294f2",
   "metadata": {},
   "outputs": [
    {
     "data": {
      "text/plain": [
       "{1, 2, 3, 4, 5, 6, 7}"
      ]
     },
     "execution_count": 30,
     "metadata": {},
     "output_type": "execute_result"
    }
   ],
   "source": [
    "set"
   ]
  },
  {
   "cell_type": "code",
   "execution_count": 31,
   "id": "820b6208-de9c-41a7-9e65-29ca0df760c9",
   "metadata": {},
   "outputs": [
    {
     "data": {
      "text/plain": [
       "False"
      ]
     },
     "execution_count": 31,
     "metadata": {},
     "output_type": "execute_result"
    }
   ],
   "source": [
    "1>2"
   ]
  },
  {
   "cell_type": "code",
   "execution_count": 32,
   "id": "1a79e90c-f132-4f6e-8f4b-9e5747feb37e",
   "metadata": {},
   "outputs": [
    {
     "data": {
      "text/plain": [
       "False"
      ]
     },
     "execution_count": 32,
     "metadata": {},
     "output_type": "execute_result"
    }
   ],
   "source": [
    "2<1"
   ]
  },
  {
   "cell_type": "code",
   "execution_count": 33,
   "id": "be56c932-2ca9-418d-90f9-1fc500efd98f",
   "metadata": {},
   "outputs": [
    {
     "data": {
      "text/plain": [
       "True"
      ]
     },
     "execution_count": 33,
     "metadata": {},
     "output_type": "execute_result"
    }
   ],
   "source": [
    "1<2"
   ]
  },
  {
   "cell_type": "code",
   "execution_count": 34,
   "id": "c715fb36-6975-40d0-ac25-fd208e4c7f26",
   "metadata": {},
   "outputs": [
    {
     "data": {
      "text/plain": [
       "True"
      ]
     },
     "execution_count": 34,
     "metadata": {},
     "output_type": "execute_result"
    }
   ],
   "source": [
    "10>=10"
   ]
  },
  {
   "cell_type": "code",
   "execution_count": 35,
   "id": "b4a601a0-9ff3-4db2-8f7e-8791cf21da4f",
   "metadata": {},
   "outputs": [
    {
     "data": {
      "text/plain": [
       "True"
      ]
     },
     "execution_count": 35,
     "metadata": {},
     "output_type": "execute_result"
    }
   ],
   "source": [
    "45>=39"
   ]
  },
  {
   "cell_type": "code",
   "execution_count": 36,
   "id": "f167e1e9-4002-491f-9a16-05accfaacf67",
   "metadata": {},
   "outputs": [
    {
     "data": {
      "text/plain": [
       "True"
      ]
     },
     "execution_count": 36,
     "metadata": {},
     "output_type": "execute_result"
    }
   ],
   "source": [
    "3==3"
   ]
  },
  {
   "cell_type": "code",
   "execution_count": 37,
   "id": "fc082ea8-9315-43c1-ba1d-4b587bf56e2a",
   "metadata": {},
   "outputs": [
    {
     "data": {
      "text/plain": [
       "False"
      ]
     },
     "execution_count": 37,
     "metadata": {},
     "output_type": "execute_result"
    }
   ],
   "source": [
    "78==9"
   ]
  },
  {
   "cell_type": "code",
   "execution_count": 38,
   "id": "127d4c12-ee61-4a97-8a8a-e38b589a1938",
   "metadata": {},
   "outputs": [
    {
     "data": {
      "text/plain": [
       "True"
      ]
     },
     "execution_count": 38,
     "metadata": {},
     "output_type": "execute_result"
    }
   ],
   "source": [
    "8!=9"
   ]
  },
  {
   "cell_type": "code",
   "execution_count": 39,
   "id": "ed93740d-7f20-483c-84a6-57926ef4c2ef",
   "metadata": {},
   "outputs": [
    {
     "data": {
      "text/plain": [
       "True"
      ]
     },
     "execution_count": 39,
     "metadata": {},
     "output_type": "execute_result"
    }
   ],
   "source": [
    "\"junaid\"!=\"ahamed\""
   ]
  },
  {
   "cell_type": "code",
   "execution_count": 40,
   "id": "de418eed-2b02-4b7a-a566-b165ed376170",
   "metadata": {},
   "outputs": [
    {
     "data": {
      "text/plain": [
       "False"
      ]
     },
     "execution_count": 40,
     "metadata": {},
     "output_type": "execute_result"
    }
   ],
   "source": [
    "\"junaid\"==\"ahamed\""
   ]
  },
  {
   "cell_type": "code",
   "execution_count": 45,
   "id": "2dac974a-e091-466f-8e5f-f9b819a998d0",
   "metadata": {},
   "outputs": [
    {
     "data": {
      "text/plain": [
       "False"
      ]
     },
     "execution_count": 45,
     "metadata": {},
     "output_type": "execute_result"
    }
   ],
   "source": [
    "(1<2) and (2>6)"
   ]
  },
  {
   "cell_type": "code",
   "execution_count": 46,
   "id": "51e7d330-c7b0-4ebb-8def-2ee61f139cbf",
   "metadata": {},
   "outputs": [
    {
     "data": {
      "text/plain": [
       "True"
      ]
     },
     "execution_count": 46,
     "metadata": {},
     "output_type": "execute_result"
    }
   ],
   "source": [
    "(1<2) or (2>6)"
   ]
  },
  {
   "cell_type": "code",
   "execution_count": 48,
   "id": "fde3ed43-fdd0-4351-a6f3-7849bc3497bd",
   "metadata": {},
   "outputs": [
    {
     "name": "stdout",
     "output_type": "stream",
     "text": [
      "yep\n"
     ]
    }
   ],
   "source": [
    "if(1<2):\n",
    "    print(\"yep\")\n",
    "    "
   ]
  },
  {
   "cell_type": "code",
   "execution_count": 51,
   "id": "9a9773e5-eac8-4d1e-b6c4-fe9457da39a2",
   "metadata": {},
   "outputs": [
    {
     "name": "stdout",
     "output_type": "stream",
     "text": [
      "last\n"
     ]
    }
   ],
   "source": [
    "if  1==3:\n",
    "    print(\"first\")\n",
    "else:\n",
    "    print(\"last\")"
   ]
  },
  {
   "cell_type": "code",
   "execution_count": 52,
   "id": "83bec27c-d4c7-48a4-9a29-48b64f1fae8c",
   "metadata": {},
   "outputs": [
    {
     "name": "stdout",
     "output_type": "stream",
     "text": [
      "first\n"
     ]
    }
   ],
   "source": [
    "if  1!=3:\n",
    "    print(\"first\")\n",
    "else:\n",
    "    print(\"last\")"
   ]
  },
  {
   "cell_type": "code",
   "execution_count": 53,
   "id": "e4fb419d-33f7-4b66-bd61-81581599f727",
   "metadata": {},
   "outputs": [
    {
     "name": "stdout",
     "output_type": "stream",
     "text": [
      "mid\n"
     ]
    }
   ],
   "source": [
    "if  1==3:\n",
    "    print(\"first\")\n",
    "elif 3==3:\n",
    "    print(\"mid\")\n",
    "else:\n",
    "    print(\"last\")"
   ]
  },
  {
   "cell_type": "code",
   "execution_count": 54,
   "id": "49dcbde8-cf75-47da-b236-be9a22f6da15",
   "metadata": {},
   "outputs": [
    {
     "name": "stdout",
     "output_type": "stream",
     "text": [
      "second\n"
     ]
    }
   ],
   "source": [
    "if  1==3:\n",
    "    print(\"first\")\n",
    "elif 4==4:\n",
    "    print(\"second\")\n",
    "elif 3==3:\n",
    "    print(\"mid\")\n",
    "else:\n",
    "    print(\"last\")"
   ]
  },
  {
   "cell_type": "code",
   "execution_count": null,
   "id": "ea012f70-466a-4b5c-8e07-5f4a0d84c917",
   "metadata": {},
   "outputs": [],
   "source": []
  }
 ],
 "metadata": {
  "kernelspec": {
   "display_name": "Python 3 (ipykernel)",
   "language": "python",
   "name": "python3"
  },
  "language_info": {
   "codemirror_mode": {
    "name": "ipython",
    "version": 3
   },
   "file_extension": ".py",
   "mimetype": "text/x-python",
   "name": "python",
   "nbconvert_exporter": "python",
   "pygments_lexer": "ipython3",
   "version": "3.12.7"
  }
 },
 "nbformat": 4,
 "nbformat_minor": 5
}
