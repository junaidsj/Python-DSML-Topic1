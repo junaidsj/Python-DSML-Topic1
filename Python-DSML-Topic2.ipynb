{
 "cells": [
  {
   "cell_type": "code",
   "execution_count": 1,
   "id": "fe962f7e-ad2a-4db0-8f3c-5cd6ab72aa6b",
   "metadata": {},
   "outputs": [],
   "source": [
    "het=[1,2,3,4,5]"
   ]
  },
  {
   "cell_type": "code",
   "execution_count": 3,
   "id": "ed9c146a-3387-459f-a139-3c54dd41f123",
   "metadata": {},
   "outputs": [
    {
     "name": "stdout",
     "output_type": "stream",
     "text": [
      "1\n",
      "2\n",
      "3\n",
      "4\n",
      "5\n"
     ]
    }
   ],
   "source": [
    "for junaid in het:\n",
    "    print(junaid)"
   ]
  },
  {
   "cell_type": "code",
   "execution_count": 8,
   "id": "8807f9fa-f598-48d5-b373-a29ba77ed276",
   "metadata": {},
   "outputs": [
    {
     "name": "stdout",
     "output_type": "stream",
     "text": [
      "i is 1\n",
      "i is 2\n",
      "i is 3\n",
      "i is 4\n",
      "i is 5\n"
     ]
    }
   ],
   "source": [
    "i=1\n",
    "\n",
    "while(i<=5):\n",
    "    print(\"i is {}\".format(i))\n",
    "    i=i+1"
   ]
  },
  {
   "cell_type": "code",
   "execution_count": 10,
   "id": "76c93f7a-3a59-4cab-836f-826a6dae9626",
   "metadata": {},
   "outputs": [
    {
     "name": "stdout",
     "output_type": "stream",
     "text": [
      "0\n",
      "1\n",
      "2\n",
      "3\n",
      "4\n",
      "5\n"
     ]
    }
   ],
   "source": [
    "for x in range(0,6):\n",
    "    print(x)"
   ]
  },
  {
   "cell_type": "code",
   "execution_count": 18,
   "id": "6ceb1ee5-777e-486b-a1b7-ec017e9e1483",
   "metadata": {},
   "outputs": [],
   "source": [
    "x=[1,2,3,4,5]\n",
    "out=[]\n",
    "for num in x:\n",
    "    out.append(num**3)"
   ]
  },
  {
   "cell_type": "code",
   "execution_count": 19,
   "id": "0695a9db-5da0-4e86-b04d-180bbb1e31ed",
   "metadata": {},
   "outputs": [
    {
     "name": "stdout",
     "output_type": "stream",
     "text": [
      "[1, 8, 27, 64, 125]\n"
     ]
    }
   ],
   "source": [
    "print(out)"
   ]
  },
  {
   "cell_type": "code",
   "execution_count": 21,
   "id": "24d039e0-5034-4667-b013-8b14e8fec402",
   "metadata": {},
   "outputs": [
    {
     "data": {
      "text/plain": [
       "[1, 4, 9, 16, 25]"
      ]
     },
     "execution_count": 21,
     "metadata": {},
     "output_type": "execute_result"
    }
   ],
   "source": [
    "[num**2 for num in x]"
   ]
  },
  {
   "cell_type": "code",
   "execution_count": 22,
   "id": "72387791-9b6f-405e-b80f-766e08afb176",
   "metadata": {},
   "outputs": [],
   "source": [
    "x=[1,2,3,4,5]\n",
    "out=[num**2 for num in x]"
   ]
  },
  {
   "cell_type": "code",
   "execution_count": 23,
   "id": "b1075295-6881-40fa-9bcd-5bcf7a701542",
   "metadata": {},
   "outputs": [
    {
     "name": "stdout",
     "output_type": "stream",
     "text": [
      "[1, 4, 9, 16, 25]\n"
     ]
    }
   ],
   "source": [
    "print(out)"
   ]
  },
  {
   "cell_type": "code",
   "execution_count": 31,
   "id": "5aa24196-5c09-41c4-9eb0-7078628e66f4",
   "metadata": {},
   "outputs": [],
   "source": [
    "def my_func(name=\"JUNAID\" ):\n",
    "    print(\"Hello \"+name)"
   ]
  },
  {
   "cell_type": "code",
   "execution_count": 34,
   "id": "7a64aba8-41dc-4518-a4ad-10c548e71a0b",
   "metadata": {},
   "outputs": [
    {
     "name": "stdout",
     "output_type": "stream",
     "text": [
      "Hello JUNAID\n"
     ]
    }
   ],
   "source": [
    "my_func()"
   ]
  },
  {
   "cell_type": "code",
   "execution_count": 35,
   "id": "34675577-18a3-4b07-9c7e-41deb7a1733b",
   "metadata": {},
   "outputs": [],
   "source": [
    "def new(num):\n",
    "    return num**2"
   ]
  },
  {
   "cell_type": "code",
   "execution_count": 42,
   "id": "fe7503fa-ae25-4bdd-95a1-bb4c40ef0526",
   "metadata": {},
   "outputs": [],
   "source": [
    "output=new(7)"
   ]
  },
  {
   "cell_type": "code",
   "execution_count": 43,
   "id": "d0fedf85-6cfc-43d6-a25a-8338182e72b6",
   "metadata": {},
   "outputs": [
    {
     "data": {
      "text/plain": [
       "49"
      ]
     },
     "execution_count": 43,
     "metadata": {},
     "output_type": "execute_result"
    }
   ],
   "source": [
    "output"
   ]
  },
  {
   "cell_type": "code",
   "execution_count": null,
   "id": "a2adff62-ed7c-4210-a91d-187f95f0cda7",
   "metadata": {},
   "outputs": [],
   "source": []
  }
 ],
 "metadata": {
  "kernelspec": {
   "display_name": "Python 3 (ipykernel)",
   "language": "python",
   "name": "python3"
  },
  "language_info": {
   "codemirror_mode": {
    "name": "ipython",
    "version": 3
   },
   "file_extension": ".py",
   "mimetype": "text/x-python",
   "name": "python",
   "nbconvert_exporter": "python",
   "pygments_lexer": "ipython3",
   "version": "3.12.7"
  }
 },
 "nbformat": 4,
 "nbformat_minor": 5
}
